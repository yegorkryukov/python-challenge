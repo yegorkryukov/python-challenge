{
 "cells": [
  {
   "cell_type": "markdown",
   "metadata": {},
   "source": [
    "# Pyber\n",
    "\n",
    "![Ride](images/Ride.png)\n",
    "\n",
    "The ride sharing bonanza continues! Seeing the success of notable players like Uber and Lyft, you've decided to join a fledgling ride sharing company of your own. In your latest capacity, you'll be acting as Chief Data Strategist for the company. In this role, you'll be expected to offer data-backed guidance on new opportunities for market differentiation.\n",
    "\n",
    "You've since been given access to the company's complete recordset of rides. This contains information about every active driver and historic ride, including details like city, driver count, individual fares, and city type."
   ]
  },
  {
   "cell_type": "code",
   "execution_count": 1,
   "metadata": {},
   "outputs": [],
   "source": [
    "#dependencies \n",
    "import pandas as pd\n",
    "import numpy as np\n",
    "import seaborn as sns\n",
    "import matplotlib.pyplot as plt\n",
    "\n",
    "#load files\n",
    "city_df = pd.read_csv('raw_data/city_data.csv')\n",
    "ride_df = pd.read_csv('raw_data/ride_data.csv').sort_values('ride_id')"
   ]
  },
  {
   "cell_type": "code",
   "execution_count": 2,
   "metadata": {},
   "outputs": [
    {
     "data": {
      "text/html": [
       "<div>\n",
       "<style scoped>\n",
       "    .dataframe tbody tr th:only-of-type {\n",
       "        vertical-align: middle;\n",
       "    }\n",
       "\n",
       "    .dataframe tbody tr th {\n",
       "        vertical-align: top;\n",
       "    }\n",
       "\n",
       "    .dataframe thead th {\n",
       "        text-align: right;\n",
       "    }\n",
       "</style>\n",
       "<table border=\"1\" class=\"dataframe\">\n",
       "  <thead>\n",
       "    <tr style=\"text-align: right;\">\n",
       "      <th></th>\n",
       "      <th>city</th>\n",
       "      <th>driver_count</th>\n",
       "      <th>type</th>\n",
       "    </tr>\n",
       "  </thead>\n",
       "  <tbody>\n",
       "    <tr>\n",
       "      <th>84</th>\n",
       "      <td>Port James</td>\n",
       "      <td>15</td>\n",
       "      <td>Suburban</td>\n",
       "    </tr>\n",
       "    <tr>\n",
       "      <th>100</th>\n",
       "      <td>Port James</td>\n",
       "      <td>3</td>\n",
       "      <td>Suburban</td>\n",
       "    </tr>\n",
       "  </tbody>\n",
       "</table>\n",
       "</div>"
      ],
      "text/plain": [
       "           city  driver_count      type\n",
       "84   Port James            15  Suburban\n",
       "100  Port James             3  Suburban"
      ]
     },
     "execution_count": 2,
     "metadata": {},
     "output_type": "execute_result"
    }
   ],
   "source": [
    "#list of cities has duplicates\n",
    "#because of that the merge table would have doubled rides\n",
    "city_df[city_df.duplicated(subset='city', keep=False).values]"
   ]
  },
  {
   "cell_type": "code",
   "execution_count": 3,
   "metadata": {},
   "outputs": [],
   "source": [
    "#drop duplicates\n",
    "city_df = city_df.drop_duplicates(subset='city')"
   ]
  },
  {
   "cell_type": "code",
   "execution_count": 4,
   "metadata": {},
   "outputs": [
    {
     "data": {
      "text/plain": [
       "True"
      ]
     },
     "execution_count": 4,
     "metadata": {},
     "output_type": "execute_result"
    }
   ],
   "source": [
    "#check if cities are equally spelled in both df\n",
    "np.array_equal(np.sort(city_df['city'].unique()), np.sort(ride_df['city'].unique()))"
   ]
  },
  {
   "cell_type": "code",
   "execution_count": 5,
   "metadata": {},
   "outputs": [],
   "source": [
    "#combine data over city name\n",
    "data_df = pd.merge(ride_df, city_df, on='city')"
   ]
  },
  {
   "cell_type": "code",
   "execution_count": 6,
   "metadata": {},
   "outputs": [],
   "source": [
    "#prepare the summary df for the plot\n",
    "by_city = data_df.groupby(['city','type']).agg \\\n",
    "                    ( \\\n",
    "                     {'ride_id':'count', \\\n",
    "                      'fare': 'mean', \\\n",
    "                      'driver_count':lambda x: sum(x) / x.count()\n",
    "                     })\n",
    "by_city = by_city.reset_index()\n",
    "by_city.columns = ['city','Type','ride_count', 'average_fare', 'driver_count']\n"
   ]
  },
  {
   "cell_type": "markdown",
   "metadata": {},
   "source": [
    "Your objective is to build a Bubble Plot that showcases the relationship between four key variables:\n",
    "* Average Fare ($) Per City\n",
    "* Total Number of Rides Per City\n",
    "* Total Number of Drivers Per City\n",
    "* City Type (Urban, Suburban, Rural)"
   ]
  },
  {
   "cell_type": "code",
   "execution_count": null,
   "metadata": {},
   "outputs": [],
   "source": [
    "#set seaborn styles\n",
    "sns.set_context(\"notebook\", font_scale=1.1)\n",
    "sns.set_style(\"darkgrid\")\n",
    "sns.color_palette(palette='colorblind')\n",
    "\n",
    "#use corporate colors for the plot\n",
    "colors = ['gold', 'lightskyblue', 'lightcoral']\n",
    "\n",
    "#calculate marker size\n",
    "marker_size = by_city['driver_count']**1.3\n",
    "\n",
    "#create a seaborn figure\n",
    "g = sns.lmplot('ride_count', 'average_fare', data=by_city, hue='Type', \\\n",
    "               legend_out=False, fit_reg=False, scatter_kws={'s':marker_size}, \\\n",
    "               size=5, aspect=2, legend=True, palette=colors)\n",
    "\n",
    "#add edge to the markers and show legend again\n",
    "g = g.map(plt.scatter, 'ride_count', 'average_fare', s=marker_size, alpha=0.75, edgecolor=\"black\", \\\n",
    "         linewidths=0.5).add_legend(title='City Type:')\n",
    "\n",
    "\n",
    "#add titles\n",
    "g.fig.suptitle('Pyber ride sharing data', y=0.9, weight='bold')\n",
    "plt.xlabel('Total number of rides per city \\n Note. Circle size correlates with driver per city')\n",
    "plt.ylabel('Average fare (USD)')\n",
    "\n",
    "#show figure\n",
    "plt.show()"
   ]
  },
  {
   "cell_type": "markdown",
   "metadata": {},
   "source": [
    "# Bubble chart\n",
    "![Pies](images/bubble.png)"
   ]
  },
  {
   "cell_type": "markdown",
   "metadata": {},
   "source": [
    "In addition, you will be expected to produce the following three pie charts:\n",
    "\n",
    "* % of Total Fares by City Type\n",
    "* % of Total Rides by City Type\n",
    "* % of Total Drivers by City Type"
   ]
  },
  {
   "cell_type": "code",
   "execution_count": 8,
   "metadata": {},
   "outputs": [],
   "source": [
    "#prepare the summary df for the plot\n",
    "by_type = data_df.groupby(['type']).agg \\\n",
    "                    ( \\\n",
    "                     {'ride_id':'count', \\\n",
    "                      'fare': 'sum', \\\n",
    "                      'driver_count':'sum'\n",
    "                     })\n",
    "by_type = by_type.reset_index()\n",
    "by_type.columns = ['City Type','Total Rides','Total Fares', 'Total Drivers']"
   ]
  },
  {
   "cell_type": "code",
   "execution_count": null,
   "metadata": {},
   "outputs": [],
   "source": [
    "#initialize figure with three axes\n",
    "f, (ax1, ax2, ax3) = plt.subplots(ncols=3, sharex=True, sharey=True, figsize=(9,3))\n",
    "\n",
    "#use corporate colors for the plots\n",
    "colors = ['gold', 'lightskyblue', 'lightcoral']\n",
    "\n",
    "#draw pie charts\n",
    "ax1.set_aspect('equal')\n",
    "ax1.pie(by_type['Total Fares'], labels=by_type['City Type'], autopct=\"%1.1f%%\", colors=colors, startangle=330)\n",
    "ax2.pie(by_type['Total Rides'], labels=by_type['City Type'], autopct=\"%1.1f%%\", colors=colors, startangle=0)\n",
    "ax3.pie(by_type['Total Drivers'], labels=by_type['City Type'], autopct=\"%1.1f%%\", colors=colors, startangle=0)\n",
    "\n",
    "#set titles\n",
    "f.suptitle('Distribution by City Type', fontsize=14, fontweight='bold', color='dimgray')\n",
    "ax1.set_title('Fares', loc ='left', x=0.1, y=0.9, weight='bold', color='dimgray')\n",
    "ax2.set_title('Rides', loc ='left', x=0.1, y=0.9, weight='bold', color='dimgray')\n",
    "ax3.set_title('Drivers', loc ='left', x=0.1, y=0.9, weight='bold', color='dimgray')\n",
    "\n",
    "plt.show()"
   ]
  },
  {
   "cell_type": "markdown",
   "metadata": {},
   "source": [
    "# Pie charts\n",
    "![Pies](images/pies.png)"
   ]
  },
  {
   "cell_type": "markdown",
   "metadata": {},
   "source": [
    "# Observations\n",
    "\n",
    "* Average fares in Urban areas are lower than in Rural ones\n",
    "* Total numbers of drivers in each city (not in category) seems to be equally spread across from Urban to Rural areas.  There should be more drivers in Urban areas.  Why is that the case?  Is the penetration of Pyber in Rural areas better than in Urban ones?\n",
    "* Most money are in Urban areas. "
   ]
  }
 ],
 "metadata": {
  "kernelspec": {
   "display_name": "Python [conda env:PythonData]",
   "language": "python",
   "name": "conda-env-PythonData-py"
  },
  "language_info": {
   "codemirror_mode": {
    "name": "ipython",
    "version": 3
   },
   "file_extension": ".py",
   "mimetype": "text/x-python",
   "name": "python",
   "nbconvert_exporter": "python",
   "pygments_lexer": "ipython3",
   "version": "3.6.4"
  },
  "varInspector": {
   "cols": {
    "lenName": 16,
    "lenType": 16,
    "lenVar": 40
   },
   "kernels_config": {
    "python": {
     "delete_cmd_postfix": "",
     "delete_cmd_prefix": "del ",
     "library": "var_list.py",
     "varRefreshCmd": "print(var_dic_list())"
    },
    "r": {
     "delete_cmd_postfix": ") ",
     "delete_cmd_prefix": "rm(",
     "library": "var_list.r",
     "varRefreshCmd": "cat(var_dic_list()) "
    }
   },
   "types_to_exclude": [
    "module",
    "function",
    "builtin_function_or_method",
    "instance",
    "_Feature"
   ],
   "window_display": false
  }
 },
 "nbformat": 4,
 "nbformat_minor": 2
}
