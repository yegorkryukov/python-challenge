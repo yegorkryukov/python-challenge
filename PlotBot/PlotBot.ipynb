{
 "cells": [
  {
   "cell_type": "markdown",
   "metadata": {},
   "source": [
    "## PlotBot\n",
    "\n",
    "Build a Twitter bot that sends out visualized sentiment analysis of a Twitter account's recent tweets.\n",
    "\n",
    "Visit [https://twitter.com/PlotBot5](https://twitter.com/PlotBot5) for an example of what your script should do.\n",
    "\n",
    "The bot receives tweets via mentions and in turn performs sentiment analysis on the most recent twitter account specified in the mention\n",
    "\n",
    "For example, when a user tweets, __\"@PlotBot Analyze: @CNN,\"__ it will trigger a sentiment analysis on the CNN twitter feed.\n",
    "\n",
    "A plot from the sentiment analysis is then tweeted to the PlotBot5 twitter feed. See below for examples of scatter plots you will generate:\n",
    "\n",
    "![@juanitasoranno.png](images/@juanitasoranno.png)\n",
    "\n",
    "Hints, requirements, and considerations:\n",
    "\n",
    "* Your bot should scan your account every __five minutes__ for mentions.\n",
    "* Your bot should pull 500 most recent tweets to analyze for each incoming request.\n",
    "* Your script should prevent abuse by analyzing __only__ Twitter accounts that have not previously been analyzed.\n",
    "* Your plot should include meaningful legend and labels.\n",
    "* It should also mention the Twitter account name of the requesting user.\n",
    "* When submitting your assignment, be sure to have at least __three__ analyses tweeted out from your account (enlist the help of classmates, friends, or family, if necessary!).\n",
    "* Notable libraries used to complete this application include: Matplotlib, Pandas, Tweepy, TextBlob, and Seaborn.\n",
    "* You may find it helpful to organize your code in function(s), then call them.\n",
    "* If you're not yet familiar with creating functions in Python, here is a tutorial you may wish to consult: [https://www.tutorialspoint.com/python/python_functions.htm](https://www.tutorialspoint.com/python/python_functions.htm)\n",
    "Your final Jupyter notebook must:\n",
    "\n",
    "* Pull last 100 tweets from each outlet.\n",
    "* Perform a sentiment analysis with the compound, positive, neutral, and negative scoring for each tweet.\n",
    "* Pull into a DataFrame the tweet's source acount, its text, its date, and its compound, positive, neutral, and negative sentiment scores.\n",
    "* Export the data in the DataFrame into a CSV file.\n",
    "* Save PNG images for each plot.\n",
    "\n",
    "As final considerations:\n",
    "\n",
    "* Use the Matplotlib and Seaborn libraries.\n",
    "* Include a written description of three observable trends based on the data.\n",
    "* Include proper labeling of your plots, including plot titles (with date of analysis) and axes labels.\n",
    "* Include an exported markdown version of your Notebook called  `README.md` in your GitHub repository."
   ]
  },
  {
   "cell_type": "code",
   "execution_count": 159,
   "metadata": {},
   "outputs": [],
   "source": [
    "# Dependencies\n",
    "import tweepy\n",
    "import pandas as pd\n",
    "from pprint import pprint\n",
    "from config import *\n",
    "import os\n",
    "# Import and Initialize Sentiment Analyzer\n",
    "from vaderSentiment.vaderSentiment import SentimentIntensityAnalyzer\n",
    "analyzer = SentimentIntensityAnalyzer()\n",
    "import matplotlib.pyplot as plt\n",
    "from datetime import datetime"
   ]
  },
  {
   "cell_type": "code",
   "execution_count": 2,
   "metadata": {},
   "outputs": [],
   "source": [
    "# Twitter API Keys\n",
    "consumer_key = consumer_key\n",
    "consumer_secret = consumer_secret\n",
    "access_token = access_token\n",
    "access_token_secret = access_token_secret\n",
    "\n",
    "# Twitter credentials\n",
    "auth = tweepy.OAuthHandler(consumer_key, consumer_secret)\n",
    "auth.set_access_token(access_token, access_token_secret)\n",
    "api = tweepy.API(auth, parser=tweepy.parsers.JSONParser())"
   ]
  },
  {
   "cell_type": "markdown",
   "metadata": {},
   "source": [
    "## Helpers"
   ]
  },
  {
   "cell_type": "code",
   "execution_count": 56,
   "metadata": {},
   "outputs": [],
   "source": [
    "def rwCSV(path,rw='r',df=None,columns=None):\n",
    "    '''\n",
    "    Reads CSV from path to pandas dataframe (rw='r')\n",
    "    Writes/appends to CSV path from pandas dataframe (rw='w')\n",
    "    Columns: array-like\n",
    "    '''\n",
    "    if rw=='r':\n",
    "        if os.path.isfile(path): \n",
    "            print('rwCSV: returning DF from CSV')\n",
    "            return pd.read_csv(path)\n",
    "        else: \n",
    "            print(f'rwCSV: returning new DF with columns: {columns}')\n",
    "            return pd.DataFrame(columns=columns)\n",
    "    elif rw=='w':\n",
    "        df = pd.DataFrame(df)\n",
    "        # if file does not exist write with header \n",
    "        if not os.path.isfile(path):\n",
    "            df.to_csv(path,index=False, columns=columns)\n",
    "            print(f\"rwCSV: saved {df.shape[0]} row(s) as new file to '{path}'\")\n",
    "        else: # else it exists so append without writing the header\n",
    "            df.to_csv(path,mode = 'a',header=False,index=False, columns=columns)\n",
    "            print(f\"rwCSV: appended {df.shape[0]} row(s) to '{path}'\")"
   ]
  },
  {
   "cell_type": "code",
   "execution_count": 75,
   "metadata": {},
   "outputs": [],
   "source": [
    "def getMentions():\n",
    "    '''\n",
    "    gets mentions from twitter and saves to CSV file\n",
    "    '''\n",
    "    #set up resulting columns\n",
    "    columns = ['mention_tweet_id','text','mentioned_users','mention_date', \\\n",
    "               'mention_user_id','mention_user_name','is_analyzed','full_response']\n",
    "\n",
    "    #set up my twitter account number\n",
    "    my_id = api.me()['id']\n",
    "\n",
    "    #get mentions\n",
    "    try:\n",
    "        mention_response = api.mentions_timeline()\n",
    "        #print('got some kind of response')\n",
    "    except tweepy.TweepError as e:\n",
    "        print(f\"getMentions: Something's not right. Error: {e}\")\n",
    "        mention_response = False\n",
    "\n",
    "    #if there are mentions go on\n",
    "    if mention_response:\n",
    "        print(f'getMentions: Got response with {len(mention_response)} tweet(s)')\n",
    "\n",
    "        # try reading mentions CSV\n",
    "        path = 'results/mentions.csv'\n",
    "        mentions_df = rwCSV(path,columns=columns)\n",
    "        new_mentions_df = pd.DataFrame(columns=columns)\n",
    "\n",
    "        #add mentions to a DF\n",
    "        for response in mention_response:\n",
    "            #set up mentioned list\n",
    "            mentioned_list = []\n",
    "\n",
    "            #create list of mentioned users\n",
    "            for mention in response['entities']['user_mentions']:\n",
    "                if mention['id'] != my_id:\n",
    "                    mentioned_list.append(mention['id'])\n",
    "\n",
    "            #check if the tweet has already been added to DF\n",
    "            #and that there are in fact mentioned users in the tweet\n",
    "            if response['id'] not in mentions_df['mention_tweet_id'].tolist() and \\\n",
    "                len(mentioned_list) > 0:\n",
    "                mentions_dict = {'mention_tweet_id':response['id'],\n",
    "                                 'text':response['text'],\n",
    "                                 'mentioned_users':mentioned_list,\n",
    "                                 'mention_date':response['created_at'],\n",
    "                                 'mention_user_id':response['user']['id'],\n",
    "                                 'mention_user_name':response['user']['name'],\n",
    "                                 'is_analyzed':False,\n",
    "                                 'full_response':response \\\n",
    "                                }\n",
    "                #grab all the mentions (append to CSV)\n",
    "                mentions_df = mentions_df.append(mentions_dict,ignore_index=True)\n",
    "                \n",
    "                #grab only new mentions (append to empty DF)\n",
    "                new_mentions_df = new_mentions_df.append(mentions_dict,ignore_index=True)\n",
    "                #convert dates\n",
    "                mentions_df['mention_date'] = pd.to_datetime(mentions_df['mention_date'])\n",
    "                new_mentions_df['mention_date'] = pd.to_datetime(mentions_df['mention_date'])\n",
    "            else:\n",
    "                print(f\"getMentions: Tweet id: {response['id']} is in CSV already or doesn't have a valid mentioned user\")\n",
    "        #save to CSV\n",
    "        if new_mentions_df.shape[0] > 0:\n",
    "            print(f'getMentions: saving new mentions to CSV')\n",
    "            rwCSV(path,'w',new_mentions_df,columns)\n",
    "        else:\n",
    "            print('getMentions: No new mentions')\n",
    "\n",
    "    #if getMentions() responded with False\n",
    "    else: \n",
    "        print('getMentions: No new mentions')\n",
    "    return mentions_df"
   ]
  },
  {
   "cell_type": "code",
   "execution_count": 151,
   "metadata": {},
   "outputs": [],
   "source": [
    "def getSentiment(id,pages=1):\n",
    "    '''\n",
    "    Returns 'pages'*100 compound sentiment analysis for twitter user 'id'\n",
    "    '''\n",
    "    mentioned_user = id\n",
    "    \n",
    "    if pages > 5: pages = 5\n",
    "    else: pages = pages\n",
    "        \n",
    "    count = 100\n",
    "\n",
    "    sentiment_df = pd.DataFrame()\n",
    "    \n",
    "    #setup list for tweets\n",
    "    tweets_of_mentioned_user = []\n",
    "\n",
    "    #get and analyse tweets\n",
    "    for page in range(1,pages+1):\n",
    "\n",
    "        #get 100 tweets at once\n",
    "        public_tweets = api.user_timeline(id=mentioned_user,count=count,page=page)\n",
    "\n",
    "        #loop through obtained tweets\n",
    "        for tweet in public_tweets:\n",
    "            result = analyzer.polarity_scores(tweet[\"text\"])\n",
    "\n",
    "            sentiment_dict = {\n",
    "                'tweet':tweet[\"text\"],\n",
    "                'compound':result['compound'],\n",
    "            }\n",
    "\n",
    "            #grab all the mentions\n",
    "            sentiment_df = sentiment_df.append(sentiment_dict,ignore_index=True)\n",
    "\n",
    "    return sentiment_df"
   ]
  },
  {
   "cell_type": "code",
   "execution_count": 210,
   "metadata": {},
   "outputs": [],
   "source": [
    "def makeGraph(df,mentioned_user):\n",
    "    mentioned_user = api.get_user(mentioned_user)['screen_name']\n",
    "    plt.style.use('fivethirtyeight')\n",
    "    f, ax = plt.subplots(figsize=(10,5))\n",
    "    plt.plot(df.index, df['compound'], marker=\"o\",markersize=10,linewidth=0.5, alpha=0.8)\n",
    "    plt.gca().invert_xaxis()\n",
    "    plt.xlim([len(df.index),0])\n",
    "    plt.ylabel(\"Tweet polarity \\n<--negative---positive\")\n",
    "    plt.xlabel(\"Tweets Ago\")\n",
    "    now = datetime.now()\n",
    "    now = now.strftime(\"%m/%d/%Y\")\n",
    "    plt.title(f\"Sentiment analysis of @{mentioned_user} tweets as of {now}\")\n",
    "    #plt.show()\n",
    "    return f"
   ]
  },
  {
   "cell_type": "code",
   "execution_count": 211,
   "metadata": {},
   "outputs": [
    {
     "data": {
      "image/png": "[encoded data removed]",
      "text/plain": [
       "<Figure size 720x360 with 1 Axes>"
      ]
     },
     "metadata": {},
     "output_type": "display_data"
    }
   ],
   "source": [
    "f = makeGraph(x,17842366)"
   ]
  },
  {
   "cell_type": "code",
   "execution_count": 178,
   "metadata": {},
   "outputs": [
    {
     "name": "stdout",
     "output_type": "stream",
     "text": [
      "getMentions: Got response with 3 tweet(s)\n",
      "rwCSV: returning DF from CSV\n",
      "getMentions: Tweet id: 983829906302873601 is in CSV already or doesn't have a valid mentioned user\n",
      "getMentions: Tweet id: 983757509960839168 is in CSV already or doesn't have a valid mentioned user\n",
      "getMentions: Tweet id: 983698615347613696 is in CSV already or doesn't have a valid mentioned user\n",
      "getMentions: No new mentions\n"
     ]
    }
   ],
   "source": [
    "#get new mentions as DF\n",
    "mentions_df = getMentions()"
   ]
  },
  {
   "cell_type": "code",
   "execution_count": 173,
   "metadata": {},
   "outputs": [],
   "source": [
    "x = getSentiment(17842366,1)"
   ]
  },
  {
   "cell_type": "code",
   "execution_count": 179,
   "metadata": {},
   "outputs": [
    {
     "data": {
      "text/html": [
       "<div>\n",
       "<style scoped>\n",
       "    .dataframe tbody tr th:only-of-type {\n",
       "        vertical-align: middle;\n",
       "    }\n",
       "\n",
       "    .dataframe tbody tr th {\n",
       "        vertical-align: top;\n",
       "    }\n",
       "\n",
       "    .dataframe thead th {\n",
       "        text-align: right;\n",
       "    }\n",
       "</style>\n",
       "<table border=\"1\" class=\"dataframe\">\n",
       "  <thead>\n",
       "    <tr style=\"text-align: right;\">\n",
       "      <th></th>\n",
       "      <th>compound</th>\n",
       "      <th>tweet</th>\n",
       "    </tr>\n",
       "  </thead>\n",
       "  <tbody>\n",
       "    <tr>\n",
       "      <th>0</th>\n",
       "      <td>-0.4588</td>\n",
       "      <td>Battle freezing sea spray with the season four...</td>\n",
       "    </tr>\n",
       "    <tr>\n",
       "      <th>1</th>\n",
       "      <td>0.0000</td>\n",
       "      <td>Go behind the scenes with the @MythBusters cre...</td>\n",
       "    </tr>\n",
       "    <tr>\n",
       "      <th>2</th>\n",
       "      <td>0.0258</td>\n",
       "      <td>RT @Gold_Rush: In order to reach the 'mountain...</td>\n",
       "    </tr>\n",
       "    <tr>\n",
       "      <th>3</th>\n",
       "      <td>0.5719</td>\n",
       "      <td>What are you doing to celebrate #NationalPetDay?</td>\n",
       "    </tr>\n",
       "    <tr>\n",
       "      <th>4</th>\n",
       "      <td>0.0772</td>\n",
       "      <td>RT @DeadliestCatch: Rule Number 1: You NEVER y...</td>\n",
       "    </tr>\n",
       "  </tbody>\n",
       "</table>\n",
       "</div>"
      ],
      "text/plain": [
       "   compound                                              tweet\n",
       "0   -0.4588  Battle freezing sea spray with the season four...\n",
       "1    0.0000  Go behind the scenes with the @MythBusters cre...\n",
       "2    0.0258  RT @Gold_Rush: In order to reach the 'mountain...\n",
       "3    0.5719   What are you doing to celebrate #NationalPetDay?\n",
       "4    0.0772  RT @DeadliestCatch: Rule Number 1: You NEVER y..."
      ]
     },
     "execution_count": 179,
     "metadata": {},
     "output_type": "execute_result"
    }
   ],
   "source": [
    "x.head()"
   ]
  },
  {
   "cell_type": "code",
   "execution_count": 122,
   "metadata": {},
   "outputs": [
    {
     "data": {
      "text/html": [
       "<div>\n",
       "<style scoped>\n",
       "    .dataframe tbody tr th:only-of-type {\n",
       "        vertical-align: middle;\n",
       "    }\n",
       "\n",
       "    .dataframe tbody tr th {\n",
       "        vertical-align: top;\n",
       "    }\n",
       "\n",
       "    .dataframe thead th {\n",
       "        text-align: right;\n",
       "    }\n",
       "</style>\n",
       "<table border=\"1\" class=\"dataframe\">\n",
       "  <thead>\n",
       "    <tr style=\"text-align: right;\">\n",
       "      <th></th>\n",
       "      <th>mention_tweet_id</th>\n",
       "      <th>text</th>\n",
       "      <th>mentioned_users</th>\n",
       "      <th>mention_date</th>\n",
       "      <th>mention_user_id</th>\n",
       "      <th>mention_user_name</th>\n",
       "      <th>is_analyzed</th>\n",
       "      <th>full_response</th>\n",
       "    </tr>\n",
       "  </thead>\n",
       "  <tbody>\n",
       "    <tr>\n",
       "      <th>0</th>\n",
       "      <td>983829906302873601</td>\n",
       "      <td>New Tweet Analysis of @Discovery. Thank you Mi...</td>\n",
       "      <td>[17842366]</td>\n",
       "      <td>2018-04-10 22:11:42</td>\n",
       "      <td>979490736013021184</td>\n",
       "      <td>Sonya</td>\n",
       "      <td>False</td>\n",
       "      <td>{'created_at': 'Tue Apr 10 22:11:42 +0000 2018...</td>\n",
       "    </tr>\n",
       "    <tr>\n",
       "      <th>1</th>\n",
       "      <td>983757509960839168</td>\n",
       "      <td>@mindthatdata analyze: @Sonik_Belka</td>\n",
       "      <td>[979490736013021184]</td>\n",
       "      <td>2018-04-10 17:24:02</td>\n",
       "      <td>47926865</td>\n",
       "      <td>Yegor Kryukov</td>\n",
       "      <td>False</td>\n",
       "      <td>{'created_at': 'Tue Apr 10 17:24:02 +0000 2018...</td>\n",
       "    </tr>\n",
       "  </tbody>\n",
       "</table>\n",
       "</div>"
      ],
      "text/plain": [
       "     mention_tweet_id                                               text  \\\n",
       "0  983829906302873601  New Tweet Analysis of @Discovery. Thank you Mi...   \n",
       "1  983757509960839168                @mindthatdata analyze: @Sonik_Belka   \n",
       "\n",
       "        mentioned_users        mention_date     mention_user_id  \\\n",
       "0            [17842366] 2018-04-10 22:11:42  979490736013021184   \n",
       "1  [979490736013021184] 2018-04-10 17:24:02            47926865   \n",
       "\n",
       "  mention_user_name is_analyzed  \\\n",
       "0             Sonya       False   \n",
       "1     Yegor Kryukov       False   \n",
       "\n",
       "                                       full_response  \n",
       "0  {'created_at': 'Tue Apr 10 22:11:42 +0000 2018...  \n",
       "1  {'created_at': 'Tue Apr 10 17:24:02 +0000 2018...  "
      ]
     },
     "execution_count": 122,
     "metadata": {},
     "output_type": "execute_result"
    }
   ],
   "source": [
    "mentions_df.head()"
   ]
  },
  {
   "cell_type": "code",
   "execution_count": null,
   "metadata": {},
   "outputs": [],
   "source": [
    "try:\n",
    "    api.update_status('Testing if this works')\n",
    "    print('Just tweeted')\n",
    "except tweepy.TweepError as e:\n",
    "    print(f\"Something's not right. Error: {e}\")\n"
   ]
  },
  {
   "cell_type": "code",
   "execution_count": null,
   "metadata": {},
   "outputs": [],
   "source": [
    "# set up resulting DFs\n",
    "tweets = pd.DataFrame()"
   ]
  }
 ],
 "metadata": {
  "kernelspec": {
   "display_name": "Python [conda env:PythonData]",
   "language": "python",
   "name": "conda-env-PythonData-py"
  },
  "language_info": {
   "codemirror_mode": {
    "name": "ipython",
    "version": 3
   },
   "file_extension": ".py",
   "mimetype": "text/x-python",
   "name": "python",
   "nbconvert_exporter": "python",
   "pygments_lexer": "ipython3",
   "version": "3.6.5"
  },
  "varInspector": {
   "cols": {
    "lenName": 16,
    "lenType": 16,
    "lenVar": 40
   },
   "kernels_config": {
    "python": {
     "delete_cmd_postfix": "",
     "delete_cmd_prefix": "del ",
     "library": "var_list.py",
     "varRefreshCmd": "print(var_dic_list())"
    },
    "r": {
     "delete_cmd_postfix": ") ",
     "delete_cmd_prefix": "rm(",
     "library": "var_list.r",
     "varRefreshCmd": "cat(var_dic_list()) "
    }
   },
   "types_to_exclude": [
    "module",
    "function",
    "builtin_function_or_method",
    "instance",
    "_Feature"
   ],
   "window_display": false
  }
 },
 "nbformat": 4,
 "nbformat_minor": 2
}
